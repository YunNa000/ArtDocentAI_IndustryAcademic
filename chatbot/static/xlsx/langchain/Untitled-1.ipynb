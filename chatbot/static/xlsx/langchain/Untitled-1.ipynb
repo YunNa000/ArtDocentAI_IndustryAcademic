{
 "cells": [
  {
   "cell_type": "code",
   "execution_count": 1,
   "metadata": {},
   "outputs": [],
   "source": [
    "import pandas as pd\n",
    "from langchain_openai import ChatOpenAI\n",
    "from langchain.prompts import ChatPromptTemplate\n",
    "from langchain.callbacks import StreamingStdOutCallbackHandler"
   ]
  },
  {
   "cell_type": "code",
   "execution_count": 4,
   "metadata": {},
   "outputs": [],
   "source": [
    "import sqlite3\n",
    "import pandas as pd"
   ]
  },
  {
   "cell_type": "code",
   "execution_count": 2,
   "metadata": {},
   "outputs": [],
   "source": [
    "llm = ChatOpenAI(\n",
    "    model=\"gpt-4o-mini\",\n",
    "    temperature=0.1,\n",
    "    streaming=True,\n",
    "    callbacks=[StreamingStdOutCallbackHandler()],\n",
    ")\n"
   ]
  },
  {
   "cell_type": "code",
   "execution_count": 20,
   "metadata": {},
   "outputs": [],
   "source": [
    "conn = sqlite3.connect('jeju2 copy.db')"
   ]
  },
  {
   "cell_type": "code",
   "execution_count": 21,
   "metadata": {},
   "outputs": [],
   "source": [
    "query = \"SELECT * FROM Review\""
   ]
  },
  {
   "cell_type": "code",
   "execution_count": null,
   "metadata": {},
   "outputs": [],
   "source": [
    "data_df = pd.read_csv('unique_list.csv', encoding='utf-8')"
   ]
  },
  {
   "cell_type": "code",
   "execution_count": null,
   "metadata": {},
   "outputs": [],
   "source": [
    "\n",
    "keywords_data = []\n",
    "\n",
    "for placeID in data_df['placeID'].unique():\n",
    "    place_data = data_df[data_df['placeID'] == placeID]\n",
    "    MCT_NM = place_data['가게명'].iloc[0] \n",
    "    reviews = place_data['content'].dropna().tolist()  \n",
    "\n",
    "    review_text = \" \".join(reviews)\n",
    "\n",
    "    if not review_text:\n",
    "        print(f\"PlaceID: {placeID} | '{MCT_NM}' | No reviews available\")\n",
    "        keywords_data.append({\"placeID\": placeID, \"MCT_NM\": MCT_NM, \"keywords\": \"No reviews available\"})\n",
    "        continue\n",
    "\n",
    "    question = f\"'{MCT_NM}'에 대한 리뷰를 바탕으로 관련된 키워드를 3개 이상 추출해줘.\"\n",
    "\n",
    "    final_prompt = ChatPromptTemplate.from_messages(\n",
    "        [\n",
    "            (\"system\", \"너는 음식점 리뷰 관련 키워드를 추출하는 봇이야.\"),\n",
    "            (\"human\", question + f\" 리뷰 내용: {{review_text}}\"),         ]\n",
    "    )\n",
    "\n",
    "    chain = final_prompt | llm\n",
    "    answer = chain.invoke({\"question\": question, \"review_text\": review_text})\n",
    "    final_answer = answer.content.strip()\n",
    "\n",
    "    keywords_data.append({\"placeID\": placeID, \"MCT_NM\": MCT_NM, \"keywords\": final_answer})\n",
    "\n",
    "    print(f\"PlaceID: {placeID} | '{MCT_NM}' | Keywords: {final_answer}\")\n",
    "\n",
    "keywords_df = pd.DataFrame(keywords_data)\n",
    "\n",
    "output_file_path = 'keywords_output.csv'\n",
    "keywords_df.to_csv(output_file_path, index=False)\n",
    "\n",
    "print(\"키워드 리스트가 placeID 별로 CSV 파일에 저장되었습니다.\")\n",
    "print(\"키워드 리스트가 placeID 별로 CSV 파일에 저장되었습니다.\")"
   ]
  },
  {
   "cell_type": "code",
   "execution_count": null,
   "metadata": {},
   "outputs": [],
   "source": []
  },
  {
   "cell_type": "code",
   "execution_count": null,
   "metadata": {},
   "outputs": [],
   "source": []
  },
  {
   "cell_type": "code",
   "execution_count": null,
   "metadata": {},
   "outputs": [],
   "source": []
  },
  {
   "cell_type": "code",
   "execution_count": null,
   "metadata": {},
   "outputs": [],
   "source": []
  },
  {
   "cell_type": "code",
   "execution_count": null,
   "metadata": {},
   "outputs": [],
   "source": []
  },
  {
   "cell_type": "code",
   "execution_count": null,
   "metadata": {},
   "outputs": [],
   "source": []
  },
  {
   "cell_type": "code",
   "execution_count": null,
   "metadata": {},
   "outputs": [],
   "source": []
  }
 ],
 "metadata": {
  "kernelspec": {
   "display_name": "base",
   "language": "python",
   "name": "python3"
  },
  "language_info": {
   "codemirror_mode": {
    "name": "ipython",
    "version": 3
   },
   "file_extension": ".py",
   "mimetype": "text/x-python",
   "name": "python",
   "nbconvert_exporter": "python",
   "pygments_lexer": "ipython3",
   "version": "3.12.4"
  }
 },
 "nbformat": 4,
 "nbformat_minor": 2
}
