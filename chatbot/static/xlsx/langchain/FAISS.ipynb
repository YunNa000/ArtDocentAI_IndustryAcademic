{
 "cells": [
  {
   "cell_type": "code",
   "execution_count": null,
   "metadata": {},
   "outputs": [
    {
     "ename": "NameError",
     "evalue": "name 'key' is not defined",
     "output_type": "error",
     "traceback": [
      "\u001b[1;31m---------------------------------------------------------------------------\u001b[0m",
      "\u001b[1;31mNameError\u001b[0m                                 Traceback (most recent call last)",
      "Cell \u001b[1;32mIn[2], line 10\u001b[0m\n\u001b[0;32m      6\u001b[0m FAISS_DB_PATH \u001b[38;5;241m=\u001b[39m \u001b[38;5;124m\"\u001b[39m\u001b[38;5;124m./school_images_index\u001b[39m\u001b[38;5;124m\"\u001b[39m\n\u001b[0;32m      9\u001b[0m \u001b[38;5;66;03m# FAISS 데이터베이스 불러오기\u001b[39;00m\n\u001b[1;32m---> 10\u001b[0m embeddings \u001b[38;5;241m=\u001b[39m OpenAIEmbeddings(openai_api_key\u001b[38;5;241m=\u001b[39m\u001b[43mkey\u001b[49m)\n\u001b[0;32m     11\u001b[0m vectorstore \u001b[38;5;241m=\u001b[39m FAISS\u001b[38;5;241m.\u001b[39mload_local(FAISS_DB_PATH, embeddings,allow_dangerous_deserialization\u001b[38;5;241m=\u001b[39m\u001b[38;5;28;01mTrue\u001b[39;00m)\n",
      "\u001b[1;31mNameError\u001b[0m: name 'key' is not defined"
     ]
    }
   ],
   "source": [
    "from langchain_openai import OpenAIEmbeddings\n",
    "from langchain_community.vectorstores import FAISS\n",
    "from langchain_huggingface import HuggingFaceEmbeddings\n",
    "import os\n",
    "from django.conf import settings\n",
    "FAISS_DB_PATH = \"./school_images_index\"\n",
    "\n",
    "# FAISS 데이터베이스 불러오기\n",
    "embeddings = OpenAIEmbeddings(openai_api_key=key)\n",
    "vectorstore = FAISS.load_local(FAISS_DB_PATH, embeddings,allow_dangerous_deserialization=True)\n"
   ]
  },
  {
   "cell_type": "code",
   "execution_count": null,
   "metadata": {},
   "outputs": [],
   "source": []
  },
  {
   "cell_type": "code",
   "execution_count": null,
   "metadata": {},
   "outputs": [],
   "source": [
    "# 유사도 검색 수행\n",
    "search_query = \"재밌는 그림\"\n",
    "results = vectorstore.similarity_search_with_score(search_query, k=10)  # 상위 10개 결과 검색\n",
    "\n",
    "# 결과 출력을 위한 리스트 생성\n",
    "similar_images = []\n",
    "for doc, score in results:\n",
    "    # FAISS의 score는 거리(작을수록 유사)이므로 유사도로 변환\n",
    "    similarity = 1 / (1 + score)  # 점수를 0~1 사이 값으로 정규화\n",
    "    \n",
    "    # 결과를 딕셔너리로 저장\n",
    "    image_info = {\n",
    "        'title': doc.metadata.get('title', 'No Title'),\n",
    "        'author': doc.metadata.get('author', 'Unknown'),\n",
    "        'similarity_score': round(similarity, 3),\n",
    "        'content': doc.page_content[:100] + '...' if len(doc.page_content) > 100 else doc.page_content\n",
    "    }\n",
    "    similar_images.append(image_info)\n",
    "\n",
    "# 유사도 점수로 정렬\n",
    "similar_images = sorted(similar_images, key=lambda x: x['similarity_score'], reverse=True)\n",
    "\n",
    "# 결과 출력\n",
    "print(\"\\n=== 재밌는 그림 유사도 검색 결과 ===\")\n",
    "for i, img in enumerate(similar_images, 1):\n",
    "    print(f\"\\n{i}. {img['title']}\")\n",
    "    print(f\"작가: {img['author']}\")\n",
    "    print(f\"유사도 점수: {img['similarity_score']}\")\n",
    "    print(f\"설명: {img['content']}\")\n",
    "    print(\"-\" * 50)"
   ]
  },
  {
   "cell_type": "code",
   "execution_count": null,
   "metadata": {},
   "outputs": [],
   "source": []
  }
 ],
 "metadata": {
  "kernelspec": {
   "display_name": "ArtDocent",
   "language": "python",
   "name": "python3"
  },
  "language_info": {
   "codemirror_mode": {
    "name": "ipython",
    "version": 3
   },
   "file_extension": ".py",
   "mimetype": "text/x-python",
   "name": "python",
   "nbconvert_exporter": "python",
   "pygments_lexer": "ipython3",
   "version": "3.8.20"
  }
 },
 "nbformat": 4,
 "nbformat_minor": 2
}
